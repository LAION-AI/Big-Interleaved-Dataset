{
 "cells": [
  {
   "cell_type": "code",
   "execution_count": 1,
   "metadata": {},
   "outputs": [],
   "source": [
    "import requests\n",
    "import json\n",
    "import sys\n",
    "import torch\n",
    "import io\n",
    "import pandas as pd\n",
    "from PIL import Image\n",
    "import open_clip\n",
    "import wandb\n",
    "from tqdm.auto import tqdm"
   ]
  },
  {
   "cell_type": "code",
   "execution_count": 2,
   "metadata": {},
   "outputs": [],
   "source": [
    "%load_ext autoreload\n",
    "%autoreload 2"
   ]
  },
  {
   "cell_type": "code",
   "execution_count": 2,
   "metadata": {},
   "outputs": [],
   "source": [
    "df = pd.read_parquet('~/data/bild/00000.parquet')"
   ]
  },
  {
   "cell_type": "code",
   "execution_count": 4,
   "metadata": {},
   "outputs": [
    {
     "data": {
      "application/vnd.jupyter.widget-view+json": {
       "model_id": "3aef144950ae482fab6cf24c9e171b32",
       "version_major": 2,
       "version_minor": 0
      },
      "text/plain": [
       "A Jupyter Widget"
      ]
     },
     "metadata": {},
     "output_type": "display_data"
    }
   ],
   "source": [
    "tc = nltk.classify.textcat.TextCat() \n",
    "\n",
    "idxs = []\n",
    "for i in tqdm(range(df.shape[0])):\n",
    "\tif (tc.guess_language(df.iloc[i]['Text']) == 'eng') and (df.iloc[i]['Page_config']['img_count'] > 0):\n",
    "\t\tidxs.append(i)\n",
    "\n",
    "\tif i % 100 == 0:\n",
    "\t\tdf_subset = df.iloc[idxs]\n",
    "\t\tdf_subset.to_parquet('00000_subset.parquet')"
   ]
  }
 ],
 "metadata": {
  "kernelspec": {
   "display_name": "Python 3",
   "language": "python",
   "name": "python3"
  },
  "language_info": {
   "codemirror_mode": {
    "name": "ipython",
    "version": 3
   },
   "file_extension": ".py",
   "mimetype": "text/x-python",
   "name": "python",
   "nbconvert_exporter": "python",
   "pygments_lexer": "ipython3",
   "version": "3.9.15"
  },
  "vscode": {
   "interpreter": {
    "hash": "e865693b12835051dd37bca9be28a1ef26ef0a2eac93943edd995bac4abb6ac2"
   }
  }
 },
 "nbformat": 4,
 "nbformat_minor": 2
}
