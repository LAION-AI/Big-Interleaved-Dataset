{
 "cells": [
  {
   "cell_type": "code",
   "execution_count": 1,
   "metadata": {},
   "outputs": [],
   "source": [
    "import pandas as pd"
   ]
  },
  {
   "cell_type": "code",
   "execution_count": 4,
   "metadata": {},
   "outputs": [],
   "source": [
    "parquet = pd.read_parquet('../00000.parquet')"
   ]
  },
  {
   "cell_type": "code",
   "execution_count": null,
   "metadata": {},
   "outputs": [],
   "source": [
    "# Loop through all html\n",
    "for idx, row in parquet.iterrows():\n",
    "\n",
    "\t# Ignore if # of images is 0\n",
    "\n",
    "\t# For every image \n",
    "\t\t# Download image and ignore if size is <5KB\n",
    "\t\n",
    "\t# get text before and text after image\n",
    "\n",
    "\t# Compute ngrams for image before and after \n",
    "\n",
    "\t# For every ngram \n",
    "\t\t# Compute clip text embeddings and image embedding\n",
    "\n",
    "\t\t# display image-text and cosine similarity"
   ]
  }
 ],
 "metadata": {
  "kernelspec": {
   "display_name": "Python 3 (ipykernel)",
   "language": "python",
   "name": "python3"
  },
  "language_info": {
   "codemirror_mode": {
    "name": "ipython",
    "version": 3
   },
   "file_extension": ".py",
   "mimetype": "text/x-python",
   "name": "python",
   "nbconvert_exporter": "python",
   "pygments_lexer": "ipython3",
   "version": "3.7.10"
  }
 },
 "nbformat": 4,
 "nbformat_minor": 2
}
